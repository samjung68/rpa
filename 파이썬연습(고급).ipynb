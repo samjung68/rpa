{
 "cells": [
  {
   "cell_type": "markdown",
   "metadata": {},
   "source": [
    "### 재귀함수 (Recursion)"
   ]
  },
  {
   "cell_type": "code",
   "execution_count": 1,
   "metadata": {},
   "outputs": [
    {
     "name": "stdout",
     "output_type": "stream",
     "text": [
      "15\n"
     ]
    }
   ],
   "source": [
    "my_list = [1, 2, 3, 4, 5]\n",
    "\n",
    "def adding_machine(L):\n",
    "    if not L:\n",
    "        return 0\n",
    "    else:\n",
    "        return L[0] + adding_machine(L[1:])\n",
    "    \n",
    "print(adding_machine(my_list)) "
   ]
  },
  {
   "cell_type": "code",
   "execution_count": 2,
   "metadata": {},
   "outputs": [
    {
     "name": "stdout",
     "output_type": "stream",
     "text": [
      "15\n"
     ]
    }
   ],
   "source": [
    "def adding_machine(L):\n",
    "    num = 0\n",
    "    for item in L:\n",
    "        num += item\n",
    "    return num\n",
    "\n",
    "print(adding_machine(my_list)) "
   ]
  },
  {
   "cell_type": "code",
   "execution_count": 6,
   "metadata": {},
   "outputs": [
    {
     "data": {
      "text/plain": [
       "35"
      ]
     },
     "execution_count": 6,
     "metadata": {},
     "output_type": "execute_result"
    }
   ],
   "source": [
    "# 리스트 모든 원소 더하기\n",
    "my_list = [1, [2, [3, 4], 5], 6, [7, 7]]\n",
    "\n",
    "def adding_machine(L):\n",
    "    num = 0\n",
    "    for item in L:\n",
    "        if isinstance(item, list):\n",
    "            num += adding_machine(item)\n",
    "        else:\n",
    "            num += item\n",
    "    return num\n",
    "\n",
    "adding_machine(my_list)"
   ]
  },
  {
   "cell_type": "markdown",
   "metadata": {},
   "source": [
    "### for loop 고급"
   ]
  },
  {
   "cell_type": "code",
   "execution_count": 7,
   "metadata": {},
   "outputs": [],
   "source": [
    "stars = ['star1', 'star2', 'star3', 'star4']\n",
    "eachStar = iter(stars)"
   ]
  },
  {
   "cell_type": "code",
   "execution_count": 8,
   "metadata": {},
   "outputs": [
    {
     "name": "stdout",
     "output_type": "stream",
     "text": [
      "<class 'list'>\n",
      "<class 'list_iterator'>\n"
     ]
    }
   ],
   "source": [
    "print(type(stars))\n",
    "print(type(eachStar))"
   ]
  },
  {
   "cell_type": "code",
   "execution_count": 9,
   "metadata": {},
   "outputs": [
    {
     "name": "stdout",
     "output_type": "stream",
     "text": [
      "star1\n"
     ]
    }
   ],
   "source": [
    "print(eachStar.__next__())"
   ]
  },
  {
   "cell_type": "code",
   "execution_count": 10,
   "metadata": {},
   "outputs": [
    {
     "name": "stdout",
     "output_type": "stream",
     "text": [
      "star2\n"
     ]
    }
   ],
   "source": [
    "print(eachStar.__next__())"
   ]
  },
  {
   "cell_type": "code",
   "execution_count": 11,
   "metadata": {},
   "outputs": [
    {
     "name": "stdout",
     "output_type": "stream",
     "text": [
      "['star1', 'star2', 'star3', 'star4']\n"
     ]
    }
   ],
   "source": [
    "print(stars)"
   ]
  },
  {
   "cell_type": "code",
   "execution_count": 12,
   "metadata": {},
   "outputs": [
    {
     "name": "stdout",
     "output_type": "stream",
     "text": [
      "<list_iterator object at 0x000002DF4B84E3D0>\n"
     ]
    }
   ],
   "source": [
    "print(eachStar)"
   ]
  },
  {
   "cell_type": "code",
   "execution_count": 13,
   "metadata": {},
   "outputs": [
    {
     "name": "stdout",
     "output_type": "stream",
     "text": [
      "0\n",
      "1\n",
      "2\n",
      "3\n",
      "4\n",
      "5\n",
      "6\n",
      "7\n",
      "8\n"
     ]
    }
   ],
   "source": [
    "for item in range(9):\n",
    "    print(item)"
   ]
  },
  {
   "cell_type": "code",
   "execution_count": 15,
   "metadata": {},
   "outputs": [
    {
     "name": "stdout",
     "output_type": "stream",
     "text": [
      "<class 'enumerate'>\n",
      "[(0, 'h'), (1, 'e'), (2, 'l'), (3, 'l'), (4, 'o')]\n"
     ]
    }
   ],
   "source": [
    "x = 'hello'\n",
    "y = enumerate(x)\n",
    "\n",
    "print(type(y))\n",
    "print(list(y))"
   ]
  },
  {
   "cell_type": "code",
   "execution_count": 16,
   "metadata": {},
   "outputs": [],
   "source": [
    "mysum = lambda a, b: a+b"
   ]
  },
  {
   "cell_type": "code",
   "execution_count": 23,
   "metadata": {},
   "outputs": [
    {
     "name": "stdout",
     "output_type": "stream",
     "text": [
      "<map object at 0x000002DF4BB31580>\n",
      "[3, 7, 11]\n"
     ]
    }
   ],
   "source": [
    "nums = [(1,2), (3,4), (5,6)]\n",
    "\n",
    "def mysum(x):\n",
    "    return x[0] + x[1]\n",
    "\n",
    "result = map(mysum, nums)\n",
    "print(result)\n",
    "print(list(result))"
   ]
  },
  {
   "cell_type": "code",
   "execution_count": 24,
   "metadata": {},
   "outputs": [
    {
     "name": "stdout",
     "output_type": "stream",
     "text": [
      "<map object at 0x000002DF4BB31A60>\n",
      "[3, 7, 11]\n"
     ]
    }
   ],
   "source": [
    "nums = [(1,2), (3,4), (5,6)]\n",
    "\n",
    "result = map(lambda x: x[0] + x[1], nums)\n",
    "print(result)\n",
    "print(list(result))"
   ]
  },
  {
   "cell_type": "code",
   "execution_count": 25,
   "metadata": {},
   "outputs": [
    {
     "name": "stdout",
     "output_type": "stream",
     "text": [
      "<filter object at 0x000002DF4B85A700> <class 'filter'>\n",
      "[1, 2, 3, 4, 5, 6]\n"
     ]
    }
   ],
   "source": [
    "data = [1, 2, 3, 'a', 'b', 'c', 4, 5, 6]\n",
    "\n",
    "def condition(item):\n",
    "    return isinstance(item, int)\n",
    "\n",
    "result = filter(condition, data)\n",
    "print(result, type(result))\n",
    "print(list(result))"
   ]
  },
  {
   "cell_type": "code",
   "execution_count": 26,
   "metadata": {},
   "outputs": [
    {
     "name": "stdout",
     "output_type": "stream",
     "text": [
      "[1, 2, 3, 4, 5, 6]\n"
     ]
    }
   ],
   "source": [
    "data = [1, 2, 3, 'a', 'b', 'c', 4, 5, 6]\n",
    "\n",
    "result = filter(lambda x: isinstance(x, int), data)\n",
    "print(list(result))"
   ]
  },
  {
   "cell_type": "code",
   "execution_count": 27,
   "metadata": {},
   "outputs": [],
   "source": [
    "from functools import reduce"
   ]
  },
  {
   "cell_type": "code",
   "execution_count": 28,
   "metadata": {},
   "outputs": [
    {
     "name": "stdout",
     "output_type": "stream",
     "text": [
      "15\n"
     ]
    }
   ],
   "source": [
    "mylist = [1, 2, 3, 4, 5]\n",
    "\n",
    "def accumulator(acc, item):\n",
    "    return acc + item\n",
    "\n",
    "result = reduce(accumulator, mylist, 0)\n",
    "print(result)"
   ]
  },
  {
   "cell_type": "code",
   "execution_count": 29,
   "metadata": {},
   "outputs": [
    {
     "name": "stdout",
     "output_type": "stream",
     "text": [
      "15\n"
     ]
    }
   ],
   "source": [
    "mylist = [1, 2, 3, 4, 5]\n",
    "\n",
    "result = reduce(lambda acc, item: acc + item, mylist, 0)\n",
    "print(result)"
   ]
  },
  {
   "cell_type": "code",
   "execution_count": 30,
   "metadata": {},
   "outputs": [
    {
     "name": "stdout",
     "output_type": "stream",
     "text": [
      "<generator object my_generator at 0x000002DF4CE69190>\n"
     ]
    }
   ],
   "source": [
    "def my_generator(num):\n",
    "    for i in range(0, num):\n",
    "        yield i\n",
    "        \n",
    "a = my_generator(5)\n",
    "print(a)"
   ]
  },
  {
   "cell_type": "code",
   "execution_count": 32,
   "metadata": {},
   "outputs": [
    {
     "name": "stdout",
     "output_type": "stream",
     "text": [
      "[] <class 'list'>\n"
     ]
    }
   ],
   "source": [
    "a = list()\n",
    "print(a, type(a))"
   ]
  },
  {
   "cell_type": "code",
   "execution_count": 33,
   "metadata": {},
   "outputs": [
    {
     "name": "stdout",
     "output_type": "stream",
     "text": [
      "<__main__.Animals object at 0x000002DF4B9A8E80>\n"
     ]
    }
   ],
   "source": [
    "class Animals:\n",
    "    legs = 4\n",
    "    ears = 2\n",
    "    eyes = 2\n",
    "    \n",
    "lion = Animals()\n",
    "print(lion)"
   ]
  },
  {
   "cell_type": "code",
   "execution_count": 34,
   "metadata": {},
   "outputs": [
    {
     "name": "stdout",
     "output_type": "stream",
     "text": [
      "4\n"
     ]
    }
   ],
   "source": [
    "print(lion.legs)"
   ]
  },
  {
   "cell_type": "code",
   "execution_count": 35,
   "metadata": {},
   "outputs": [
    {
     "name": "stdout",
     "output_type": "stream",
     "text": [
      "4\n"
     ]
    }
   ],
   "source": [
    "monkey = Animals()\n",
    "print(monkey.legs)"
   ]
  },
  {
   "cell_type": "code",
   "execution_count": 37,
   "metadata": {},
   "outputs": [
    {
     "name": "stdout",
     "output_type": "stream",
     "text": [
      "4\n",
      "2\n"
     ]
    }
   ],
   "source": [
    "class Animals:\n",
    "    def __init__(self, legs, ears, eyes):\n",
    "        self.legs = legs\n",
    "        self.ears = ears\n",
    "        self.eyes = eyes\n",
    "    \n",
    "    def shout(self, sound):\n",
    "        print(f'{sound} {sound}')\n",
    "        \n",
    "lion = Animals(4, 2, 2)\n",
    "monkey = Animals(2, 2, 2)\n",
    "\n",
    "print(lion.legs)\n",
    "print(monkey.legs)"
   ]
  },
  {
   "cell_type": "code",
   "execution_count": 38,
   "metadata": {},
   "outputs": [
    {
     "name": "stdout",
     "output_type": "stream",
     "text": [
      "어흥 어흥\n",
      "끼이끼이 끼이끼이\n"
     ]
    }
   ],
   "source": [
    "lion.shout('어흥')\n",
    "monkey.shout('끼이끼이')"
   ]
  },
  {
   "cell_type": "code",
   "execution_count": 45,
   "metadata": {},
   "outputs": [],
   "source": [
    "class Animals:\n",
    "    def __init__(self, legs, ears, eyes):\n",
    "        self.legs = legs\n",
    "        self.ears = ears\n",
    "        self.eyes = eyes\n",
    "    \n",
    "    def shout(self, sound):\n",
    "        print(f'{sound} {sound}')\n",
    "        \n",
    "class Mammals(Animals):\n",
    "    def run(self):\n",
    "        print('run run run')\n",
    "        \n",
    "class Birds(Animals):\n",
    "    def __init__(self, legs, ears, eyes, wings):\n",
    "        super().__init__(legs, ears, eyes)\n",
    "        self.wings = wings\n",
    "        \n",
    "    def fly(self):\n",
    "        print('fly fly fly')\n",
    "        "
   ]
  },
  {
   "cell_type": "code",
   "execution_count": 46,
   "metadata": {},
   "outputs": [
    {
     "name": "stdout",
     "output_type": "stream",
     "text": [
      "2\n",
      "2\n",
      "fly fly fly\n",
      "None\n"
     ]
    }
   ],
   "source": [
    "chicken = Birds(2, 2, 2, 2)\n",
    "print(chicken.legs)\n",
    "print(chicken.wings)\n",
    "print(chicken.fly())"
   ]
  },
  {
   "cell_type": "code",
   "execution_count": 47,
   "metadata": {},
   "outputs": [
    {
     "name": "stdout",
     "output_type": "stream",
     "text": [
      "['__class__', '__delattr__', '__dict__', '__dir__', '__doc__', '__eq__', '__format__', '__ge__', '__getattribute__', '__gt__', '__hash__', '__init__', '__init_subclass__', '__le__', '__lt__', '__module__', '__ne__', '__new__', '__reduce__', '__reduce_ex__', '__repr__', '__setattr__', '__sizeof__', '__str__', '__subclasshook__', '__weakref__', 'ears', 'eyes', 'fly', 'legs', 'shout', 'wings']\n"
     ]
    }
   ],
   "source": [
    "print(dir(chicken))"
   ]
  },
  {
   "cell_type": "code",
   "execution_count": 77,
   "metadata": {},
   "outputs": [],
   "source": [
    "class Person:\n",
    "    def __init__(self, name, pay, job):\n",
    "        self.name = name\n",
    "        self.pay = pay\n",
    "        self.job = job\n",
    "        \n",
    "    def giveRaise(self, percent):\n",
    "        self.pay = self.pay * (1 + percent)\n",
    "        \n",
    "class Manager(Person):\n",
    "    def __init__(self, name, pay, job, position='manager'):\n",
    "        super().__init__(name, pay, job)\n",
    "        self.position = position\n",
    "        \n",
    "    def giveRaise(self, percent, bonus = .1):\n",
    "        super().giveRaise(percent + bonus)"
   ]
  },
  {
   "cell_type": "code",
   "execution_count": 78,
   "metadata": {},
   "outputs": [],
   "source": [
    "tom = Manager('tom boy', 1000, 'engineer')\n",
    "bob = Person('bob boy', 1000, 'developer')"
   ]
  },
  {
   "cell_type": "code",
   "execution_count": 79,
   "metadata": {},
   "outputs": [
    {
     "name": "stdout",
     "output_type": "stream",
     "text": [
      "1000\n",
      "1000\n"
     ]
    }
   ],
   "source": [
    "print(tom.pay)\n",
    "print(bob.pay)"
   ]
  },
  {
   "cell_type": "code",
   "execution_count": 80,
   "metadata": {},
   "outputs": [],
   "source": [
    "tom.giveRaise(.10, .2)\n",
    "bob.giveRaise(.10)"
   ]
  },
  {
   "cell_type": "code",
   "execution_count": 81,
   "metadata": {},
   "outputs": [
    {
     "name": "stdout",
     "output_type": "stream",
     "text": [
      "1300.0\n",
      "1100.0\n"
     ]
    }
   ],
   "source": [
    "print(tom.pay)\n",
    "print(bob.pay)"
   ]
  },
  {
   "cell_type": "code",
   "execution_count": 3,
   "metadata": {},
   "outputs": [
    {
     "name": "stdout",
     "output_type": "stream",
     "text": [
      "hello\n"
     ]
    }
   ],
   "source": [
    "def decorator(func):\n",
    "    func()\n",
    "    \n",
    "def saySomething():\n",
    "    print('hello')\n",
    "    \n",
    "decorator(saySomething)"
   ]
  },
  {
   "cell_type": "code",
   "execution_count": 4,
   "metadata": {},
   "outputs": [
    {
     "name": "stdout",
     "output_type": "stream",
     "text": [
      "******\n",
      "hello\n",
      "******\n"
     ]
    }
   ],
   "source": [
    "def decorate(func):\n",
    "    def wrapper():\n",
    "        print('******')\n",
    "        func()\n",
    "        print('******')\n",
    "    return wrapper\n",
    "\n",
    "@decorator\n",
    "def saySomething():\n",
    "    print('hello')\n",
    "    \n",
    "a = decorate(saySomething)\n",
    "a()"
   ]
  },
  {
   "cell_type": "code",
   "execution_count": 17,
   "metadata": {},
   "outputs": [
    {
     "name": "stdout",
     "output_type": "stream",
     "text": [
      "Thank you\n"
     ]
    },
    {
     "ename": "Exception",
     "evalue": "저기요...나이가 너무 많이 넣었네요",
     "output_type": "error",
     "traceback": [
      "\u001b[1;31m---------------------------------------------------------------------------\u001b[0m",
      "\u001b[1;31mException\u001b[0m                                 Traceback (most recent call last)",
      "\u001b[1;32md:\\02.빅데이터_인공지능\\프로젝트3_업무자동화RPA\\파이썬연습(고급).ipynb Cell 39\u001b[0m line \u001b[0;36m5\n\u001b[0;32m      <a href='vscode-notebook-cell:/d%3A/02.%EB%B9%85%EB%8D%B0%EC%9D%B4%ED%84%B0_%EC%9D%B8%EA%B3%B5%EC%A7%80%EB%8A%A5/%ED%94%84%EB%A1%9C%EC%A0%9D%ED%8A%B83_%EC%97%85%EB%AC%B4%EC%9E%90%EB%8F%99%ED%99%94RPA/%ED%8C%8C%EC%9D%B4%EC%8D%AC%EC%97%B0%EC%8A%B5%28%EA%B3%A0%EA%B8%89%29.ipynb#X53sZmlsZQ%3D%3D?line=2'>3</a>\u001b[0m age \u001b[39m=\u001b[39m \u001b[39mint\u001b[39m(\u001b[39minput\u001b[39m(\u001b[39m'\u001b[39m\u001b[39m나이가 어떻게 되세요?: \u001b[39m\u001b[39m'\u001b[39m))\n\u001b[0;32m      <a href='vscode-notebook-cell:/d%3A/02.%EB%B9%85%EB%8D%B0%EC%9D%B4%ED%84%B0_%EC%9D%B8%EA%B3%B5%EC%A7%80%EB%8A%A5/%ED%94%84%EB%A1%9C%EC%A0%9D%ED%8A%B83_%EC%97%85%EB%AC%B4%EC%9E%90%EB%8F%99%ED%99%94RPA/%ED%8C%8C%EC%9D%B4%EC%8D%AC%EC%97%B0%EC%8A%B5%28%EA%B3%A0%EA%B8%89%29.ipynb#X53sZmlsZQ%3D%3D?line=3'>4</a>\u001b[0m \u001b[39mif\u001b[39;00m age \u001b[39m>\u001b[39m \u001b[39m100\u001b[39m:\n\u001b[1;32m----> <a href='vscode-notebook-cell:/d%3A/02.%EB%B9%85%EB%8D%B0%EC%9D%B4%ED%84%B0_%EC%9D%B8%EA%B3%B5%EC%A7%80%EB%8A%A5/%ED%94%84%EB%A1%9C%EC%A0%9D%ED%8A%B83_%EC%97%85%EB%AC%B4%EC%9E%90%EB%8F%99%ED%99%94RPA/%ED%8C%8C%EC%9D%B4%EC%8D%AC%EC%97%B0%EC%8A%B5%28%EA%B3%A0%EA%B8%89%29.ipynb#X53sZmlsZQ%3D%3D?line=4'>5</a>\u001b[0m     \u001b[39mraise\u001b[39;00m \u001b[39mException\u001b[39;00m(\u001b[39m'\u001b[39m\u001b[39m저기요...나이가 너무 많이 넣었네요\u001b[39m\u001b[39m'\u001b[39m)\n\u001b[0;32m      <a href='vscode-notebook-cell:/d%3A/02.%EB%B9%85%EB%8D%B0%EC%9D%B4%ED%84%B0_%EC%9D%B8%EA%B3%B5%EC%A7%80%EB%8A%A5/%ED%94%84%EB%A1%9C%EC%A0%9D%ED%8A%B83_%EC%97%85%EB%AC%B4%EC%9E%90%EB%8F%99%ED%99%94RPA/%ED%8C%8C%EC%9D%B4%EC%8D%AC%EC%97%B0%EC%8A%B5%28%EA%B3%A0%EA%B8%89%29.ipynb#X53sZmlsZQ%3D%3D?line=5'>6</a>\u001b[0m percent \u001b[39m=\u001b[39m \u001b[39mpow\u001b[39m(\u001b[39m100\u001b[39m\u001b[39m/\u001b[39mage, \u001b[39m-\u001b[39m\u001b[39m1\u001b[39m) \u001b[39m*\u001b[39m \u001b[39m100\u001b[39m\n\u001b[0;32m      <a href='vscode-notebook-cell:/d%3A/02.%EB%B9%85%EB%8D%B0%EC%9D%B4%ED%84%B0_%EC%9D%B8%EA%B3%B5%EC%A7%80%EB%8A%A5/%ED%94%84%EB%A1%9C%EC%A0%9D%ED%8A%B83_%EC%97%85%EB%AC%B4%EC%9E%90%EB%8F%99%ED%99%94RPA/%ED%8C%8C%EC%9D%B4%EC%8D%AC%EC%97%B0%EC%8A%B5%28%EA%B3%A0%EA%B8%89%29.ipynb#X53sZmlsZQ%3D%3D?line=6'>7</a>\u001b[0m \u001b[39mprint\u001b[39m(\u001b[39mf\u001b[39m\u001b[39m'\u001b[39m\u001b[39m당신은 \u001b[39m\u001b[39m{\u001b[39;00mpercent\u001b[39m}\u001b[39;00m\u001b[39m% 만큼 살았습니다.\u001b[39m\u001b[39m'\u001b[39m)\n",
      "\u001b[1;31mException\u001b[0m: 저기요...나이가 너무 많이 넣었네요"
     ]
    }
   ],
   "source": [
    "while True:\n",
    "    try:\n",
    "        age = int(input('나이가 어떻게 되세요?: '))\n",
    "        if age > 100:\n",
    "            raise Exception('저기요...나이가 너무 많이 넣었네요')\n",
    "        percent = pow(100/age, -1) * 100\n",
    "        print(f'당신은 {percent}% 만큼 살았습니다.')\n",
    "    except ZeroDivisionError as err:\n",
    "        print(f'{err}: 0 보다 큰 숫자를 입력하세요')\n",
    "    except ValueError as err:\n",
    "        print(f'{err}: 숫자를 입력하세요')\n",
    "    else:\n",
    "        break\n",
    "    finally:\n",
    "        print(\"Thank you\")"
   ]
  },
  {
   "cell_type": "code",
   "execution_count": 18,
   "metadata": {},
   "outputs": [
    {
     "name": "stdout",
     "output_type": "stream",
     "text": [
      "15\n"
     ]
    }
   ],
   "source": [
    "myList = [1,2,3,4,5]\n",
    "num = 0\n",
    "\n",
    "for item in myList:\n",
    "    num += item\n",
    "    \n",
    "print(num)"
   ]
  },
  {
   "cell_type": "code",
   "execution_count": null,
   "metadata": {},
   "outputs": [],
   "source": [
    "myList = [1,2,3,4,5]\n",
    "iterator = iter(myList)\n",
    "\n",
    "num = 0\n",
    "while True:\n",
    "    "
   ]
  }
 ],
 "metadata": {
  "kernelspec": {
   "display_name": "math_stats",
   "language": "python",
   "name": "python3"
  },
  "language_info": {
   "codemirror_mode": {
    "name": "ipython",
    "version": 3
   },
   "file_extension": ".py",
   "mimetype": "text/x-python",
   "name": "python",
   "nbconvert_exporter": "python",
   "pygments_lexer": "ipython3",
   "version": "3.9.17"
  }
 },
 "nbformat": 4,
 "nbformat_minor": 2
}
